{
 "cells": [
  {
   "cell_type": "code",
   "execution_count": 21,
   "metadata": {},
   "outputs": [
    {
     "name": "stdout",
     "output_type": "stream",
     "text": [
      "pygame 1.9.4\n",
      "Hello from the pygame community. https://www.pygame.org/contribute.html\n"
     ]
    }
   ],
   "source": [
    "#-- rescaling 50x50 surface into 500x500 i.e 1x1px in 50x50 is 10x10px in 500x500\n",
    "#-- to do snake body and food should not have same coordinate, game over after collision and pause restart button\n",
    "import pygame, sys, random\n",
    "import math as m\n",
    "from pygame.locals import*\n",
    "pygame.init()\n",
    "FPS = 10\n",
    "fpsclock = pygame.time.Clock()\n",
    "WINWIDTH = 300\n",
    "WINHEIGHT = 300\n",
    "SURFACEWIDTH = 15\n",
    "SURFACEHEIGHT = 15"
   ]
  },
  {
   "cell_type": "code",
   "execution_count": 22,
   "metadata": {},
   "outputs": [],
   "source": [
    "class Snake:\n",
    "        def __init__(self,DISPLAYSURF):\n",
    "            self.size = 3\n",
    "            self.rectsize = 1  # draw snake on pixel\n",
    "            self.node = [[0,0],[3,3],[2,3],[1,3]]\n",
    "            self.tail = self.node[self.size]\n",
    "            self.color = (0,255,0)\n",
    "            self.direction = 'down'\n",
    "            self.surface = DISPLAYSURF\n",
    "            self.SPEED =  1 # one pixel at a time\n",
    "            self.RESCALEFACTOR = 20 # 1px in 50x50 surface is 10px in 500x500 window\n",
    "            temp = self.size\n",
    "            while temp != 0:\n",
    "                self.drawrect(self.node[temp][0],self.node[temp][1],self.rectsize,self.rectsize) \n",
    "                temp -= 1\n",
    "                \n",
    "        def updateS(self):\n",
    "                previous = [self.node[1][0],self.node[1][1]]\n",
    "                if self.direction == 'right' :\n",
    "                      previous[0] += self.SPEED\n",
    "                elif self.direction == 'left':\n",
    "                      previous[0] -= self.SPEED\n",
    "                elif self.direction == 'up':\n",
    "                      previous[1] -= self.SPEED\n",
    "                elif self.direction == 'down':\n",
    "                      previous[1] += self.SPEED \n",
    "                self.node.insert(1,previous)\n",
    "                self.node.pop()\n",
    "        \n",
    "        def addtail(self):\n",
    "                newtail = [self.tail[0],self.tail[1]]\n",
    "                if self.direction == 'right' :\n",
    "                      newtail[0] -= 1\n",
    "                elif self.direction == 'left':\n",
    "                      newtail[0] += 1\n",
    "                elif self.direction == 'up':\n",
    "                      newtail[1] += 1\n",
    "                elif self.direction == 'down':\n",
    "                      newtail[1] -= 1\n",
    "                self.node.insert(self.size+1,newtail)\n",
    "                self.size += 1\n",
    "                self.tail = self.node[self.size]\n",
    "                \n",
    "        def collidedItself(self):\n",
    "            for xy in self.node[2:]:\n",
    "                if self.node[1][0] == xy[0] and self.node[1][1] == xy[1]:\n",
    "                    return True\n",
    "            return False\n",
    "        \n",
    "        def outOfbound(self):\n",
    "            if (self.node[1][0]*self.RESCALEFACTOR >=  WINWIDTH) or (self.node[1][0] < 0) or (self.node[1][1]*self.RESCALEFACTOR >= WINHEIGHT) or (self.node[1][1] < 0):\n",
    "                return True\n",
    "            return False\n",
    "                \n",
    "        def drawSnake(self):\n",
    "            sizes = 1\n",
    "            while sizes != self.size + 1:\n",
    "                self.drawrect(self.node[sizes][0],self.node[sizes][1],self.rectsize,self.rectsize)\n",
    "                sizes += 1\n",
    "                \n",
    "        def drawrect(self,x,y,xsize,ysize):\n",
    "                pygame.draw.rect(DISPLAYSURF,(0,255,0),(x*self.RESCALEFACTOR,y*self.RESCALEFACTOR,xsize*self.RESCALEFACTOR,ysize*self.RESCALEFACTOR))"
   ]
  },
  {
   "cell_type": "code",
   "execution_count": 23,
   "metadata": {},
   "outputs": [],
   "source": [
    "class Food:\n",
    "    def __init__(self,WINWIDTH,WINHEIGHT,MINWIDTH,MINHEIGHT):\n",
    "        self.maxwidth = WINWIDTH - 5\n",
    "        self.maxheight = WINHEIGHT - 5\n",
    "        self.minwidth =  MINWIDTH + 5\n",
    "        self.minheight = MINHEIGHT + 5\n",
    "        self.size = 1\n",
    "        self.RESCALEFACTOR = 20\n",
    "        self.color = (255,0,0)\n",
    "        self.currentX =  -1\n",
    "        self.currentY =  -1\n",
    "        self.generateXY()\n",
    "    \n",
    "    def generateXY(self):\n",
    "        self.currentX = random.randint(self.minwidth,self.maxwidth)\n",
    "        self.currentY = random.randint(self.minheight,self.maxheight)\n",
    "    \n",
    "    def drawFood(self,surface):\n",
    "        #print(\"food location is\",self.currentX,self.currentY)\n",
    "        self.drawrect(surface,self.currentX,self.currentY,self.size,self.size)\n",
    "    \n",
    "    def drawrect(self,surface,x,y,xsize,ysize):\n",
    "        pygame.draw.rect(surface,self.color,(x*self.RESCALEFACTOR,y*self.RESCALEFACTOR,xsize*self.RESCALEFACTOR,ysize*self.RESCALEFACTOR))\n",
    "        \n",
    "        \n",
    "    "
   ]
  },
  {
   "cell_type": "code",
   "execution_count": null,
   "metadata": {},
   "outputs": [],
   "source": []
  },
  {
   "cell_type": "code",
   "execution_count": 24,
   "metadata": {},
   "outputs": [],
   "source": [
    "WHITE = (255,255,255)"
   ]
  },
  {
   "cell_type": "code",
   "execution_count": 25,
   "metadata": {},
   "outputs": [],
   "source": [
    "def rungame(modellr):\n",
    "    countsec = 0\n",
    "    snake = Snake(DISPLAYSURF)\n",
    "    food = Food(SURFACEWIDTH,SURFACEHEIGHT,0,0)\n",
    "    #-- loop to start game after space is pressed\n",
    "    score = 0\n",
    "    string = str(score)\n",
    "    string = \"Snake Game Score:\" + string\n",
    "    pygame.display.set_caption(string)\n",
    "    #-- main game loop\n",
    "    while True:\n",
    "        DISPLAYSURF.fill(WHITE)\n",
    "        \n",
    "        \n",
    "        for event in pygame.event.get():\n",
    "            if event.type == QUIT:\n",
    "                pygame.quit()\n",
    "                sys.exit()\n",
    "        \n",
    "        #collide(snake,food) create this function\n",
    "        #model prediciton\n",
    "        obstacle = obstacles(snake)\n",
    "        angle = getOrthogonalAngle(snake ,food)\n",
    "        distance = distanceBetweenSnakeAndFood(snake, food)\n",
    "        parameter = [[obstacle[0],obstacle[1],obstacle[2],obstacle[3],angle,distance,snake.size]]\n",
    "        pre = modellr.predict(parameter)\n",
    "        \n",
    "        if pre == -1:\n",
    "            snake.direction = \"up\"\n",
    "        elif pre == +1:\n",
    "            snake.direction = \"down\"\n",
    "        elif pre == +3:\n",
    "            snake.direction = \"right\"\n",
    "        elif pre == -3:\n",
    "            snake.direction = \"left\"\n",
    "        \n",
    "        if (snake.node[1][0] == food.currentX) and (snake.node[1][1] == food.currentY):\n",
    "            #print(\"food found\")\n",
    "            snake.addtail()\n",
    "            food.generateXY()\n",
    "            score += 1\n",
    "            string = \"Snake Game Score:\" + str(score)\n",
    "            pygame.display.set_caption(string)\n",
    "        \n",
    "        countsec += 1\n",
    "        if countsec == 100:\n",
    "            food.generateXY()\n",
    "            countsec = 0\n",
    "        \n",
    "        food.drawFood(DISPLAYSURF)\n",
    "        snake.updateS()\n",
    "        if (snake.collidedItself()):\n",
    "            #pygame.display.set_caption(\"Game Over collided\")\n",
    "            #break\n",
    "        if (snake.outOfbound()):\n",
    "            pygame.display.set_caption(\"Game Over out of bound\")\n",
    "            break\n",
    "        snake.drawSnake()\n",
    "        pygame.display.update()\n",
    "        fpsclock.tick(FPS)"
   ]
  },
  {
   "cell_type": "code",
   "execution_count": 26,
   "metadata": {},
   "outputs": [],
   "source": [
    "def number(direction):\n",
    "    if direction == 'up':\n",
    "        return -1\n",
    "    elif direction == 'down':\n",
    "        return +1\n",
    "    elif direction == 'left':\n",
    "        return -3\n",
    "    return +3"
   ]
  },
  {
   "cell_type": "code",
   "execution_count": 27,
   "metadata": {},
   "outputs": [],
   "source": [
    "def getOrthogonalAngle(snake ,food):\n",
    "    headx, heady = snake.node[1][0], snake.node[1][1]\n",
    "\n",
    "    foodx,foody = food.currentX, food.currentY\n",
    "\n",
    "    base = foodx - headx\n",
    "    perpendicular = foody - heady\n",
    "\n",
    "    hypotenuse = m.sqrt(base**2 + perpendicular**2)+0.00001\n",
    "\n",
    "    angle = m.degrees(m.asin(perpendicular/hypotenuse))%90\n",
    "\n",
    "    if snake.direction == \"right\":\n",
    "        if base >= 0 and perpendicular <= 0:   angle = angle + 0\n",
    "        elif base <= 0 and perpendicular <= 0: angle = angle + 90\n",
    "        elif base <= 0 and perpendicular >= 0: angle = angle + 90\n",
    "        else:                                  angle = angle + 0\n",
    "    elif snake.direction == \"up\":\n",
    "        if base >= 0 and perpendicular <= 0:   angle = angle + 0\n",
    "        elif base <= 0 and perpendicular <= 0: angle = angle + 0\n",
    "        elif base <= 0 and perpendicular >= 0: angle = angle + 90\n",
    "        else:                                  angle = angle + 90\n",
    "    elif snake.direction == \"left\":\n",
    "        if base >= 0 and perpendicular <= 0:   angle = angle + 90\n",
    "        elif base <= 0 and perpendicular <= 0: angle = angle + 0\n",
    "        elif base <= 0 and perpendicular >= 0: angle = angle + 0\n",
    "        else:                                  angle = angle + 90\n",
    "    else:\n",
    "        if base >= 0 and perpendicular <= 0:   angle = angle + 90\n",
    "        elif base <= 0 and perpendicular <= 0: angle = angle + 90\n",
    "        elif base <= 0 and perpendicular >= 0: angle = angle + 0\n",
    "        else:                                  angle = angle + 0\n",
    "\n",
    "    return m.radians(angle-90)/(m.pi/2)"
   ]
  },
  {
   "cell_type": "code",
   "execution_count": 28,
   "metadata": {},
   "outputs": [],
   "source": [
    "def distanceBetweenSnakeAndFood(snake, food):\n",
    "    headx, heady = snake.node[1][0], snake.node[1][1]\n",
    "\n",
    "    foodx, foody = food.currentX, food.currentY\n",
    "\n",
    "    base = abs(foodx - headx)\n",
    "    perpendicular = abs(foody - heady)\n",
    "\n",
    "    hypotenuse = m.sqrt(base**2 + perpendicular**2)\n",
    "    return hypotenuse/15"
   ]
  },
  {
   "cell_type": "code",
   "execution_count": 29,
   "metadata": {},
   "outputs": [],
   "source": [
    "def obstacles(snake):\n",
    "    head = [snake.node[1][0], snake.node[1][1]]\n",
    "    up = 0\n",
    "    down = 0\n",
    "    left = 0\n",
    "    right = 0\n",
    "    if (head[0]+1)*snake.RESCALEFACTOR >= WINWIDTH:\n",
    "        right = 1\n",
    "    if (head[0]-1)*snake.RESCALEFACTOR < 0:\n",
    "        left = 1\n",
    "    if (head[1]+1)*snake.RESCALEFACTOR >= WINHEIGHT:\n",
    "        down = 1\n",
    "    if (head[1]-1)*snake.RESCALEFACTOR < 0:\n",
    "        up = 1\n",
    "    \n",
    "    for xy in snake.node[2:]:\n",
    "        if (head[0]) == xy[0] and (head[1]-1) == xy[1]:\n",
    "            up = 1\n",
    "        elif (head[0]) == xy[0] and(head[1]+1) == xy[1]:\n",
    "            down = 1\n",
    "        elif (head[0]-1) == xy[0] and (head[1]) == xy[1]:\n",
    "            left = 1\n",
    "        elif (head[0]+1) == xy[0] and (head[1]) == xy[1]:\n",
    "            right = 1\n",
    "            \n",
    "    return (up,down,left,right)\n",
    "    "
   ]
  },
  {
   "cell_type": "markdown",
   "metadata": {},
   "source": [
    "# Data cleaning"
   ]
  },
  {
   "cell_type": "code",
   "execution_count": 30,
   "metadata": {},
   "outputs": [],
   "source": [
    "import numpy as np\n",
    "import pandas as pd"
   ]
  },
  {
   "cell_type": "code",
   "execution_count": 31,
   "metadata": {},
   "outputs": [],
   "source": [
    "data = pd.read_csv(\"newdata3.csv\")"
   ]
  },
  {
   "cell_type": "code",
   "execution_count": 32,
   "metadata": {},
   "outputs": [
    {
     "data": {
      "text/plain": [
       "(array([  77,  111,  133,  509, 1055, 1381, 1382, 1393, 1394, 1568, 2089,\n",
       "        2201, 2277, 2367, 2543, 2725, 3021, 3875, 3893, 4479, 4480, 5350,\n",
       "        5394, 5556, 5777, 6510, 6881, 7262, 7453, 7860, 7949, 7950, 8168,\n",
       "        8408, 8723, 9128, 9182, 9183]),)"
      ]
     },
     "execution_count": 32,
     "metadata": {},
     "output_type": "execute_result"
    }
   ],
   "source": [
    "np.where(np.logical_and(np.logical_and(data['right'] == 1, data['left'] == 1),data['decision'] == 3))"
   ]
  },
  {
   "cell_type": "code",
   "execution_count": 33,
   "metadata": {},
   "outputs": [],
   "source": [
    "data.drop(data.index[[  77,  111,  133,  509, 1055, 1381, 1382, 1393, 1394, 1568, 2089,\n",
    "        2201, 2277, 2367, 2543, 2725, 3021, 3875, 3893, 4479, 4480, 5350,\n",
    "        5394, 5556, 5777, 6510, 6881, 7262, 7453, 7860, 7949, 7950, 8168,\n",
    "        8408, 8723, 9128, 9182, 9183]], inplace = True)"
   ]
  },
  {
   "cell_type": "code",
   "execution_count": 34,
   "metadata": {},
   "outputs": [
    {
     "data": {
      "text/plain": [
       "(array([1159, 1755, 2031, 2168, 2249, 2329, 2408, 2608, 2689, 2755, 3263,\n",
       "        3264, 3862, 5350, 5737, 5825, 5866, 6339, 6340, 6618, 7057, 7258,\n",
       "        7532, 7974, 8050, 8840, 8943, 9014, 9118]),)"
      ]
     },
     "execution_count": 34,
     "metadata": {},
     "output_type": "execute_result"
    }
   ],
   "source": [
    "np.where(np.logical_and(np.logical_and(data['right'] == 1, data['left'] == 1),data['decision'] == -3))"
   ]
  },
  {
   "cell_type": "code",
   "execution_count": 35,
   "metadata": {},
   "outputs": [],
   "source": [
    "data.drop(data.index[[1159, 1755, 2031, 2168, 2249, 2329, 2408, 2608, 2689, 2755, 3263,\n",
    "        3264, 3862, 5350, 5737, 5825, 5866, 6339, 6340, 6618, 7057, 7258,\n",
    "        7532, 7974, 8050, 8840, 8943, 9014, 9118]], inplace = True)"
   ]
  },
  {
   "cell_type": "code",
   "execution_count": 36,
   "metadata": {},
   "outputs": [
    {
     "data": {
      "text/plain": [
       "(array([ 707,  732, 1686, 2215, 3436, 3616, 3704, 3976, 4333, 4718, 5281,\n",
       "        5379, 6825, 7054, 7055, 7104, 7105, 7685, 8105, 8768, 8887, 8915,\n",
       "        8952, 9076]),)"
      ]
     },
     "execution_count": 36,
     "metadata": {},
     "output_type": "execute_result"
    }
   ],
   "source": [
    "np.where(np.logical_and(np.logical_and(data['down'] == 1, data['up'] == 1),data['decision'] == +1))"
   ]
  },
  {
   "cell_type": "code",
   "execution_count": 37,
   "metadata": {},
   "outputs": [],
   "source": [
    "data.drop(data.index[[ 707,  732, 1686, 2215, 3436, 3616, 3704, 3976, 4333, 4718, 5281,\n",
    "        5379, 6825, 7054, 7055, 7104, 7105, 7685, 8105, 8768, 8887, 8915,\n",
    "        8952, 9076]], inplace = True)"
   ]
  },
  {
   "cell_type": "code",
   "execution_count": 38,
   "metadata": {},
   "outputs": [
    {
     "data": {
      "text/plain": [
       "(array([ 636, 1361, 1362, 2027, 2169, 2242, 2330, 2506, 2683, 2743, 2744,\n",
       "        2932, 3426, 4244, 4427, 6098, 7052, 7053, 7514, 8815, 8846, 8976,\n",
       "        9079, 9123, 9124]),)"
      ]
     },
     "execution_count": 38,
     "metadata": {},
     "output_type": "execute_result"
    }
   ],
   "source": [
    "np.where(np.logical_and(np.logical_and(data['down'] == 1, data['up'] == 1),data['decision'] == -1))"
   ]
  },
  {
   "cell_type": "code",
   "execution_count": 39,
   "metadata": {},
   "outputs": [],
   "source": [
    "data.drop(data.index[[ 636, 1361, 1362, 2027, 2169, 2242, 2330, 2506, 2683, 2743, 2744,\n",
    "        2932, 3426, 4244, 4427, 6098, 7052, 7053, 7514, 8815, 8846, 8976,\n",
    "        9079, 9123, 9124]], inplace = True)"
   ]
  },
  {
   "cell_type": "code",
   "execution_count": 40,
   "metadata": {},
   "outputs": [],
   "source": [
    "X = data.drop(labels = [\"decision\"], axis = 1)\n",
    "y = data[\"decision\"]"
   ]
  },
  {
   "cell_type": "code",
   "execution_count": 41,
   "metadata": {},
   "outputs": [
    {
     "name": "stdout",
     "output_type": "stream",
     "text": [
      "<class 'pandas.core.frame.DataFrame'>\n",
      "Int64Index: 9105 entries, 0 to 9220\n",
      "Data columns (total 7 columns):\n",
      "up          9105 non-null int64\n",
      "down        9105 non-null int64\n",
      "left        9105 non-null int64\n",
      "right       9105 non-null int64\n",
      "angle       9105 non-null float64\n",
      "distance    9105 non-null float64\n",
      "size        9105 non-null int64\n",
      "dtypes: float64(2), int64(5)\n",
      "memory usage: 569.1 KB\n"
     ]
    }
   ],
   "source": [
    "X.info()"
   ]
  },
  {
   "cell_type": "code",
   "execution_count": 42,
   "metadata": {},
   "outputs": [
    {
     "data": {
      "text/plain": [
       "1821"
      ]
     },
     "execution_count": 42,
     "metadata": {},
     "output_type": "execute_result"
    }
   ],
   "source": [
    "len(y_test)"
   ]
  },
  {
   "cell_type": "markdown",
   "metadata": {},
   "source": [
    "# Model creation"
   ]
  },
  {
   "cell_type": "code",
   "execution_count": 43,
   "metadata": {},
   "outputs": [],
   "source": [
    "from sklearn.model_selection import train_test_split"
   ]
  },
  {
   "cell_type": "code",
   "execution_count": 44,
   "metadata": {},
   "outputs": [],
   "source": [
    " X_train, X_test, y_train, y_test = train_test_split(X, y, test_size=0.2, random_state=42)"
   ]
  },
  {
   "cell_type": "markdown",
   "metadata": {},
   "source": [
    "# Logistic Regression"
   ]
  },
  {
   "cell_type": "code",
   "execution_count": 45,
   "metadata": {},
   "outputs": [
    {
     "name": "stdout",
     "output_type": "stream",
     "text": [
      "1432\n"
     ]
    },
    {
     "data": {
      "text/plain": [
       "0.786381109280615"
      ]
     },
     "execution_count": 45,
     "metadata": {},
     "output_type": "execute_result"
    }
   ],
   "source": [
    "from sklearn.linear_model import LogisticRegression\n",
    "modellr = LogisticRegression(max_iter=1000)\n",
    "modellr.fit(X_train, y_train)\n",
    "prediction = modellr.predict(X_test)\n",
    "count = 0\n",
    "for test,actual in zip(prediction, y_test):\n",
    "    if test == actual:\n",
    "        count += 1\n",
    "print(count)\n",
    "len(prediction)\n",
    "modellr.score(X_test, y_test)"
   ]
  },
  {
   "cell_type": "markdown",
   "metadata": {},
   "source": [
    "# Random Forest"
   ]
  },
  {
   "cell_type": "code",
   "execution_count": 46,
   "metadata": {},
   "outputs": [
    {
     "name": "stdout",
     "output_type": "stream",
     "text": [
      "1521\n"
     ]
    },
    {
     "data": {
      "text/plain": [
       "0.8352553542009885"
      ]
     },
     "execution_count": 46,
     "metadata": {},
     "output_type": "execute_result"
    }
   ],
   "source": [
    "from sklearn.ensemble import RandomForestClassifier\n",
    "modelrf = RandomForestClassifier(n_estimators=1000)\n",
    "modelrf.fit(X_train, y_train)\n",
    "prediction = modelrf.predict(X_test)\n",
    "count = 0\n",
    "for test,actual in zip(prediction, y_test):\n",
    "    if test == actual:\n",
    "        count += 1\n",
    "print(count)\n",
    "len(prediction)\n",
    "modelrf.score(X_test, y_test)"
   ]
  },
  {
   "cell_type": "markdown",
   "metadata": {},
   "source": [
    "# XGBOOST CLASSIFIER"
   ]
  },
  {
   "cell_type": "code",
   "execution_count": 47,
   "metadata": {},
   "outputs": [
    {
     "name": "stdout",
     "output_type": "stream",
     "text": [
      "1521\n"
     ]
    },
    {
     "name": "stderr",
     "output_type": "stream",
     "text": [
      "/home/mahadev/.local/lib/python3.6/site-packages/sklearn/preprocessing/label.py:151: DeprecationWarning: The truth value of an empty array is ambiguous. Returning False, but in future this will result in an error. Use `array.size > 0` to check that an array is not empty.\n",
      "  if diff:\n"
     ]
    },
    {
     "data": {
      "text/plain": [
       "0.8517298187808896"
      ]
     },
     "execution_count": 47,
     "metadata": {},
     "output_type": "execute_result"
    }
   ],
   "source": [
    "from xgboost import XGBClassifier\n",
    "modelxg = XGBClassifier(n_estimators=300,max_depth=8)\n",
    "modelxg.fit(X_train.values, y_train.values)\n",
    "prediction = modelrf.predict(X_test.values)\n",
    "count = 0\n",
    "for test,actual in zip(prediction, y_test.values):\n",
    "    if test == actual:\n",
    "        count += 1\n",
    "print(count)\n",
    "len(prediction)\n",
    "modelxg.score(X_test.values, y_test.values)"
   ]
  },
  {
   "cell_type": "code",
   "execution_count": null,
   "metadata": {},
   "outputs": [],
   "source": []
  },
  {
   "cell_type": "markdown",
   "metadata": {},
   "source": [
    "# Model save"
   ]
  },
  {
   "cell_type": "code",
   "execution_count": 48,
   "metadata": {},
   "outputs": [],
   "source": [
    "import pickle\n",
    "filename = 'finalized_modelbetter.sav'\n",
    "pickle.dump(modelxg, open(filename, 'wb'))"
   ]
  },
  {
   "cell_type": "markdown",
   "metadata": {},
   "source": [
    "# Play game"
   ]
  },
  {
   "cell_type": "code",
   "execution_count": 50,
   "metadata": {
    "scrolled": true
   },
   "outputs": [
    {
     "ename": "SystemExit",
     "evalue": "",
     "output_type": "error",
     "traceback": [
      "An exception has occurred, use %tb to see the full traceback.\n",
      "\u001b[0;31mSystemExit\u001b[0m\n"
     ]
    }
   ],
   "source": [
    "import warnings\n",
    "warnings.filterwarnings('ignore')\n",
    "DISPLAYSURF = pygame.display.set_mode((WINWIDTH,WINHEIGHT),0,32)\n",
    "while True:\n",
    "    rungame(modelxg)"
   ]
  },
  {
   "cell_type": "code",
   "execution_count": null,
   "metadata": {},
   "outputs": [],
   "source": []
  },
  {
   "cell_type": "code",
   "execution_count": null,
   "metadata": {},
   "outputs": [],
   "source": []
  }
 ],
 "metadata": {
  "kernelspec": {
   "display_name": "Python 3",
   "language": "python",
   "name": "python3"
  },
  "language_info": {
   "codemirror_mode": {
    "name": "ipython",
    "version": 3
   },
   "file_extension": ".py",
   "mimetype": "text/x-python",
   "name": "python",
   "nbconvert_exporter": "python",
   "pygments_lexer": "ipython3",
   "version": "3.6.5"
  }
 },
 "nbformat": 4,
 "nbformat_minor": 2
}
